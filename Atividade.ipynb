{
  "nbformat": 4,
  "nbformat_minor": 0,
  "metadata": {
    "colab": {
      "provenance": [],
      "authorship_tag": "ABX9TyMrAqF3JDUxow49/T0oVXnv",
      "include_colab_link": true
    },
    "kernelspec": {
      "name": "python3",
      "display_name": "Python 3"
    },
    "language_info": {
      "name": "python"
    }
  },
  "cells": [
    {
      "cell_type": "markdown",
      "metadata": {
        "id": "view-in-github",
        "colab_type": "text"
      },
      "source": [
        "<a href=\"https://colab.research.google.com/github/COAP230023/atividade-praticas-em-numpy-gabrieltizziani/blob/main/Atividade22-10.ipynb\" target=\"_parent\"><img src=\"https://colab.research.google.com/assets/colab-badge.svg\" alt=\"Open In Colab\"/></a>"
      ]
    },
    {
      "cell_type": "markdown",
      "source": [
        "# Treino de NumPy — 42 exercícios hands-on\n",
        "\n",
        "**Objetivo:** praticar manipulação de arrays NumPy (criação, slicing, broadcasting, álgebra linear, estatística, datas, strides).\n",
        "\n",
        "**Regras:** use **apenas** NumPy (`import numpy as np`). Para reprodutibilidade, prefira `np.random.default_rng(seed)`.\n"
      ],
      "metadata": {
        "id": "s_uhmCguA50E"
      }
    },
    {
      "cell_type": "code",
      "source": [
        "### 1. Vetor de zeros  _(fácil)_\n",
        "\n",
        "### Crie um array 1D com 10 zeros usando NumPy e mostre o dtype e o shape.\n",
        "\n",
        "import numpy\n",
        "\n",
        "# Criar um vetor 1D com 10 zeros\n",
        "array = numpy.zeros(10)\n",
        "\n",
        "# Exibir o array, dtype e shape\n",
        "print(array)\n",
        "print(\"dtype:\", array.dtype)\n",
        "print(\"shape:\", array.shape)"
      ],
      "metadata": {
        "colab": {
          "base_uri": "https://localhost:8080/"
        },
        "id": "H7B7uHTgC0Zp",
        "outputId": "f2eff116-4d43-4e1b-9258-3e8ef1d3784c"
      },
      "execution_count": 8,
      "outputs": [
        {
          "output_type": "stream",
          "name": "stdout",
          "text": [
            "[0. 0. 0. 0. 0. 0. 0. 0. 0. 0.]\n",
            "dtype: float64\n",
            "shape: (10,)\n"
          ]
        }
      ]
    },
    {
      "cell_type": "code",
      "source": [
        "### 2. Vetor de uns  _(fácil)_\n",
        "\n",
        "### Crie um array 1D com 10 uns e transforme-o em float64.\n",
        "import numpy as np\n",
        "numpy.ones(10, dtype=np.float64)\n",
        "\n"
      ],
      "metadata": {
        "colab": {
          "base_uri": "https://localhost:8080/"
        },
        "id": "ZJun3jg_DfjB",
        "outputId": "635d2f8a-ff5e-4d3c-871c-8b2521e9f5b3"
      },
      "execution_count": 10,
      "outputs": [
        {
          "output_type": "execute_result",
          "data": {
            "text/plain": [
              "array([1., 1., 1., 1., 1., 1., 1., 1., 1., 1.])"
            ]
          },
          "metadata": {},
          "execution_count": 10
        }
      ]
    },
    {
      "cell_type": "code",
      "source": [
        "### 3. Sequência 0–9  _(fácil)_\n",
        "\n",
        "### Crie um array com os inteiros de 0 a 9 (inclusive).\n",
        "import numpy as np\n",
        "np.arange(10)\n",
        "\n",
        "#arange cria um array de valores espaçados uniformemente dentro de um intervalo definido\n"
      ],
      "metadata": {
        "colab": {
          "base_uri": "https://localhost:8080/"
        },
        "id": "1JyhInKYDzdq",
        "outputId": "14686632-3a5d-433f-d954-4a80d5f04d2f"
      },
      "execution_count": 12,
      "outputs": [
        {
          "output_type": "execute_result",
          "data": {
            "text/plain": [
              "array([0, 1, 2, 3, 4, 5, 6, 7, 8, 9])"
            ]
          },
          "metadata": {},
          "execution_count": 12
        }
      ]
    },
    {
      "cell_type": "code",
      "source": [
        "### 4. Matriz 3×3 com 0…8  _(fácil)_\n",
        "\n",
        "### Crie um array 3×3 com os valores 0…8 (reshape).\n",
        "import numpy as np\n",
        "np.arange(9).reshape(3, 3)"
      ],
      "metadata": {
        "id": "ArOjmyTPGBKt"
      },
      "execution_count": null,
      "outputs": []
    },
    {
      "cell_type": "code",
      "source": [
        "### 5. Índices não zero  _(fácil)_\n",
        "\n",
        "### Dado o vetor v = np.array([1,2,0,0,4,0])`, encontre os índices dos elementos não nulos.\n",
        "import numpy as np\n",
        "v = np.array([1, 2, 0, 0, 4, 0])\n",
        "elementos_nao_nulos = np.nonzero(v)\n",
        "print(elementos_nao_nulos)\n"
      ],
      "metadata": {
        "id": "GBZyoLOeGsr5"
      },
      "execution_count": null,
      "outputs": []
    },
    {
      "cell_type": "code",
      "source": [
        "### 6. Linspace  _(fácil)_\n",
        "\n",
        "### Crie um vetor de 12 pontos igualmente espaçados no intervalo [0, 1].\n",
        "numpy.linspace(0, 1, 12)\n"
      ],
      "metadata": {
        "id": "FFNicgXjIpz8"
      },
      "execution_count": null,
      "outputs": []
    },
    {
      "cell_type": "code",
      "source": [
        "### 7. Identidade 5×5  _(fácil)_\n",
        "\n",
        "### Crie uma matriz identidade de ordem 5.\n",
        "np.eye(5)\n"
      ],
      "metadata": {
        "colab": {
          "base_uri": "https://localhost:8080/"
        },
        "id": "C-zATeJxJTVO",
        "outputId": "3112a6e6-f79a-4d9e-b105-04183b50c751"
      },
      "execution_count": 13,
      "outputs": [
        {
          "output_type": "execute_result",
          "data": {
            "text/plain": [
              "array([[1., 0., 0., 0., 0.],\n",
              "       [0., 1., 0., 0., 0.],\n",
              "       [0., 0., 1., 0., 0.],\n",
              "       [0., 0., 0., 1., 0.],\n",
              "       [0., 0., 0., 0., 1.]])"
            ]
          },
          "metadata": {},
          "execution_count": 13
        }
      ]
    },
    {
      "cell_type": "code",
      "source": [
        "### 8. Aleatórios 3×3×3  _(fácil)_\n",
        "\n",
        "### Gere um array 3×3×3 com valores aleatórios uniformes em [0,1). Use `np.random.default_rng(42)`.\n",
        "rng = np.random.default_rng(42)\n",
        "array_3x3x3 = rng.random((3, 3, 3))\n",
        "print(array_3x3x3)\n",
        "\n",
        "\n"
      ],
      "metadata": {
        "id": "4Xwm_Q_1J_MG"
      },
      "execution_count": null,
      "outputs": []
    },
    {
      "cell_type": "code",
      "source": [
        "### 9. Min/Max  _(fácil)_\n",
        "\n",
        "### Crie uma matriz 10×10 de aleatórios uniformes e mostre o valor mínimo e máximo.\n",
        "matriz_10x10 = np.random.rand(10, 10)\n",
        "min_val = matriz_10x10.min()\n",
        "max_val = matriz_10x10.max()\n",
        "print(f\"Valor Mínimo: {min_val}\")\n",
        "print(f\"Valor Máximo: {max_val}\")"
      ],
      "metadata": {
        "id": "IU8uOpUppXat"
      },
      "execution_count": null,
      "outputs": []
    },
    {
      "cell_type": "code",
      "source": [
        "### 10. Padronização 1D  _(fácil)_\n",
        "\n",
        "### Dado `x = [1,2,3,4,5]`, crie um array float e normalize para média 0 e desvio 1.\n",
        "\n",
        "x = np.array([1, 2, 3, 4, 5], dtype=float)\n",
        "media = x.mean()\n",
        "desvio = x.std()\n",
        "x_padronizado = (x - media) / desvio\n",
        "print(f\"Array original: {x}\")\n",
        "print(f\"Média original: {x.mean():.2f}, Desvio original: {x.std():.2f}\")\n",
        "print(f\"Array padronizado: {x_padronizado}\")\n",
        "print(f\"Média padronizada: {x_padronizado.mean():.2f}, Desvio padronizado: {x_padronizado.std():.2f}\")"
      ],
      "metadata": {
        "id": "64JHkEpkp6ZR"
      },
      "execution_count": null,
      "outputs": []
    },
    {
      "cell_type": "code",
      "source": [
        "### 11. Conversão de tipos  _(fácil)_\n",
        "\n",
        "### Converta `np.array([1,2,3])` (int32) para float32 e depois para int64.\n",
        "arr_int32 = np.array([1, 2, 3])\n",
        "print(f\"Original: {arr_int32}, Tipo: {arr_int32.dtype}\")\n",
        "\n",
        "arr_float32 = arr_int32.astype(np.float32)\n",
        "print(f\"Para float32: {arr_float32}, Tipo: {arr_float32.dtype}\")\n",
        "\n",
        "arr_int64 = arr_float32.astype(np.int64)\n",
        "print(f\"Para int64: {arr_int64}, Tipo: {arr_int64.dtype}\")"
      ],
      "metadata": {
        "colab": {
          "base_uri": "https://localhost:8080/"
        },
        "id": "9GSmpBhPp6vv",
        "outputId": "1e63612e-e73a-42a3-cebb-9f844505f230"
      },
      "execution_count": 14,
      "outputs": [
        {
          "output_type": "stream",
          "name": "stdout",
          "text": [
            "Original: [1 2 3], Tipo: int64\n",
            "Para float32: [1. 2. 3.], Tipo: float32\n",
            "Para int64: [1 2 3], Tipo: int64\n"
          ]
        }
      ]
    },
    {
      "cell_type": "code",
      "source": [
        "### 12. Clipping  _(fácil)_\n",
        "\n",
        "### Dado `a = [2, 5, 7, 1, 9]`, limite os valores ao intervalo [0,5] (valores acima de 5 tornam-se 5).\n",
        "a = np.array([2, 5, 7, 1, 9])\n",
        "a_clipped = np.clip(a, 0, 5)\n",
        "print(f\"Array original: {a}\")\n",
        "print(f\"Array limitado [0,5]: {a_clipped}\")"
      ],
      "metadata": {
        "id": "P2OQXkXVrcTn"
      },
      "execution_count": null,
      "outputs": []
    },
    {
      "cell_type": "code",
      "source": [
        "### 13. Inversão  _(fácil)_\n",
        "\n",
        "### Crie um vetor de 0 a 9 e inverta a ordem (sem usar `[::-1]`).\n",
        "\n",
        "vetor = np.arange(10)\n",
        "vetor_invertido = np.flip(vetor)\n",
        "print(f\"Vetor original: {vetor}\")\n",
        "print(f\"Vetor invertido: {vetor_invertido}\")"
      ],
      "metadata": {
        "id": "CX7RYFXprcQS"
      },
      "execution_count": null,
      "outputs": []
    },
    {
      "cell_type": "code",
      "source": [
        "### 14. Empilhamento  _(fácil)_\n",
        "\n",
        "### Dado `a = [1,2,3]` e `b = [4,5,6]`, empilhe horizontal e verticalmente.\n",
        "a = np.array([1, 2, 3])\n",
        "b = np.array([4, 5, 6])\n",
        "empilhado_h = np.hstack((a, b))\n",
        "empilhado_v = np.vstack((a, b))\n",
        "print(f\"a: {a}, b: {b}\")\n",
        "print(f\"Horizontal: {empilhado_h}\")\n",
        "print(f\"Vertical:\\n{empilhado_v}\")\n"
      ],
      "metadata": {
        "id": "bNdWwohYrcM6"
      },
      "execution_count": null,
      "outputs": []
    },
    {
      "cell_type": "code",
      "source": [
        "### 15. Diagonal  _(fácil)_\n",
        "\n",
        "### Crie uma matriz 4×4 com a diagonal principal igual a 5 e as demais entradas zero.\n",
        "diagonal_5 = np.diag([5, 5, 5, 5])\n",
        "print(diagonal_5)"
      ],
      "metadata": {
        "id": "ZOwwYge0rcFc"
      },
      "execution_count": null,
      "outputs": []
    },
    {
      "cell_type": "code",
      "source": [
        "### 16. Somas por eixo  _(fácil)_\n",
        "\n",
        "### Para a matriz `A = np.arange(12).reshape(3,4)`, calcule a soma por linhas e por colunas.\n",
        "A = np.arange(12).reshape(3, 4)\n",
        "soma_por_colunas = A.sum(axis=0)\n",
        "soma_por_linhas = A.sum(axis=1)\n",
        "print(f\"Matriz A:\\n{A}\")\n",
        "print(f\"Soma por colunas (axis=0): {soma_por_colunas}\")\n",
        "print(f\"Soma por linhas (axis=1): {soma_por_linhas}\")"
      ],
      "metadata": {
        "colab": {
          "base_uri": "https://localhost:8080/"
        },
        "id": "frw3Qxscrb92",
        "outputId": "5b83ecb7-79c5-4ed4-a55a-6b5bc0391a1e"
      },
      "execution_count": 15,
      "outputs": [
        {
          "output_type": "stream",
          "name": "stdout",
          "text": [
            "Matriz A:\n",
            "[[ 0  1  2  3]\n",
            " [ 4  5  6  7]\n",
            " [ 8  9 10 11]]\n",
            "Soma por colunas (axis=0): [12 15 18 21]\n",
            "Soma por linhas (axis=1): [ 6 22 38]\n"
          ]
        }
      ]
    },
    {
      "cell_type": "code",
      "source": [
        "### 17. Frequências inteiras  _(fácil)_\n",
        "\n",
        "### Gere 100 inteiros aleatórios em [0,9] e conte as frequências de cada valor (0 a 9).\n",
        "rng = np.random.default_rng(42)\n",
        "dados = rng.integers(0, 10, size=100) # [0, 10)\n",
        "valores, contagens = np.unique(dados, return_counts=True)\n",
        "\n",
        "print(\"Frequências (Valor: Contagem):\")\n",
        "for v, c in zip(valores, contagens):\n",
        "    print(f\"{v}: {c}\", end=\" | \")\n",
        "print() # Nova linha\n"
      ],
      "metadata": {
        "colab": {
          "base_uri": "https://localhost:8080/"
        },
        "id": "3d1BQhPcrb1w",
        "outputId": "f00c5bf7-941d-4bd3-a959-5da0f9fd09ea"
      },
      "execution_count": 16,
      "outputs": [
        {
          "output_type": "stream",
          "name": "stdout",
          "text": [
            "Frequências (Valor: Contagem):\n",
            "0: 9 | 1: 9 | 2: 6 | 3: 9 | 4: 15 | 5: 7 | 6: 11 | 7: 15 | 8: 12 | 9: 7 | \n"
          ]
        }
      ]
    },
    {
      "cell_type": "code",
      "source": [
        "### 18. Slicing com passo  _(fácil)_\n",
        "\n",
        "### Dado `v = np.arange(20)`, selecione cada 3º elemento começando do índice 1.\n",
        "v = np.arange(20)\n",
        "v_filtrado = v[1::3] # Começa no índice 1, vai até o fim, com passo de 3\n",
        "print(f\"Vetor original: {v}\")\n",
        "print(f\"Elementos a partir do índice 1 com passo 3: {v_filtrado}\")\n"
      ],
      "metadata": {
        "colab": {
          "base_uri": "https://localhost:8080/"
        },
        "id": "4i24ZzYSrbgO",
        "outputId": "dad5fae6-2460-4412-b984-3100f2343e3c"
      },
      "execution_count": 17,
      "outputs": [
        {
          "output_type": "stream",
          "name": "stdout",
          "text": [
            "Vetor original: [ 0  1  2  3  4  5  6  7  8  9 10 11 12 13 14 15 16 17 18 19]\n",
            "Elementos a partir do índice 1 com passo 3: [ 1  4  7 10 13 16 19]\n"
          ]
        }
      ]
    },
    {
      "cell_type": "code",
      "source": [
        "# 18. Slicing com passo (fácil)\n",
        "# Dado v = np.arange(20), selecione cada 3º elemento começando do índice 1.\n",
        "\n",
        "v = np.arange(20)\n",
        "v_filtrado = v[1::3]\n",
        "print(f\"Vetor original: {v}\")\n",
        "print(f\"Elementos a partir do índice 1 com passo 3: {v_filtrado}\")"
      ],
      "metadata": {
        "colab": {
          "base_uri": "https://localhost:8080/"
        },
        "id": "RKSrlBuV8JTT",
        "outputId": "ef42ae9e-176f-4b43-e129-abe2e928f790"
      },
      "execution_count": 18,
      "outputs": [
        {
          "output_type": "stream",
          "name": "stdout",
          "text": [
            "Vetor original: [ 0  1  2  3  4  5  6  7  8  9 10 11 12 13 14 15 16 17 18 19]\n",
            "Elementos a partir do índice 1 com passo 3: [ 1  4  7 10 13 16 19]\n"
          ]
        }
      ]
    },
    {
      "cell_type": "code",
      "source": [
        "# 19. Máscara booleana (fácil)\n",
        "# Crie uma máscara para números pares de 0…19 e use-a para filtrar o vetor.\n",
        "vetor_0_19 = np.arange(20)\n",
        "mascara_par = (vetor_0_19 % 2 == 0)\n",
        "vetor_pares = vetor_0_19[mascara_par]\n",
        "print(f\"Vetor 0-19: {vetor_0_19}\")\n",
        "# print(f\"Máscara booleana: {mascara_par}\")\n",
        "print(f\"Números pares: {vetor_pares}\")\n"
      ],
      "metadata": {
        "id": "nWAWqnFu8JPg"
      },
      "execution_count": null,
      "outputs": []
    },
    {
      "cell_type": "code",
      "source": [
        "# 20. Lista de listas -> array (fácil)\n",
        "# Converta [[1,2,3],[4,5,6]] em ndarray, verifique shape e dtype.\n",
        "print(\"--- 20. Lista de listas -> array ---\")\n",
        "lista_de_listas = [[1, 2, 3], [4, 5, 6]]\n",
        "array_convertido = np.array(lista_de_listas)\n",
        "print(f\"Lista de listas: {lista_de_listas}\")\n",
        "print(f\"Array convertido:\\n{array_convertido}\")\n",
        "print(f\"Shape: {array_convertido.shape}\")\n",
        "print(f\"Dtype: {array_convertido.dtype}\")\n",
        "print(\"-\" * 30)"
      ],
      "metadata": {
        "id": "jnA8aKDi8JMF"
      },
      "execution_count": null,
      "outputs": []
    },
    {
      "cell_type": "code",
      "source": [
        "# 21. Datas básicas (fácil)\n",
        "# Crie um array de datas diárias de 2025-01-01 a 2025-01-07 (inclusive).\n",
        "print(\"--- 21. Datas básicas ---\")\n",
        "datas = np.arange('2025-01-01', '2025-01-08', dtype='datetime64[D]')\n",
        "print(datas)\n",
        "print(\"-\" * 30)"
      ],
      "metadata": {
        "id": "SeG1VEde8JJk"
      },
      "execution_count": null,
      "outputs": []
    },
    {
      "cell_type": "code",
      "source": [
        "# 22. Centralizar colunas (fácil)\n",
        "# Dada A = np.array([[1.,2.,3.],[4.,5.,6.]]), subtraia a média de cada coluna.\n",
        "A = np.array([[1., 2., 3.], [4., 5., 6.]])\n",
        "medias_colunas = A.mean(axis=0)\n",
        "# Subtrair as médias, o broadcasting funciona automaticamente\n",
        "A_centralizada = A - medias_colunas\n",
        "print(f\"Matriz A:\\n{A}\")\n",
        "print(f\"Médias das colunas: {medias_colunas}\")\n",
        "print(f\"Matriz A centralizada (Média de cada coluna deve ser ~0):\\n{A_centralizada}\")\n",
        "print(f\"Novas médias: {A_centralizada.mean(axis=0)}\") # Deve ser muito próximo de zero\n"
      ],
      "metadata": {
        "colab": {
          "base_uri": "https://localhost:8080/"
        },
        "id": "OeDh6jYi8JFH",
        "outputId": "8b20d669-70fe-4524-ab70-a062b64eeb85"
      },
      "execution_count": 19,
      "outputs": [
        {
          "output_type": "stream",
          "name": "stdout",
          "text": [
            "Matriz A:\n",
            "[[1. 2. 3.]\n",
            " [4. 5. 6.]]\n",
            "Médias das colunas: [2.5 3.5 4.5]\n",
            "Matriz A centralizada (Média de cada coluna deve ser ~0):\n",
            "[[-1.5 -1.5 -1.5]\n",
            " [ 1.5  1.5  1.5]]\n",
            "Novas médias: [0. 0. 0.]\n"
          ]
        }
      ]
    },
    {
      "cell_type": "code",
      "source": [
        "# 23. Produto elemento-a-elemento vs. escalar (fácil)\n",
        "# Dadas a=[1,2,3] e b=[4,5,6], calcule produto elemento a elemento e o produto escalar.\n",
        "a_prod = np.array([1, 2, 3])\n",
        "b_prod = np.array([4, 5, 6])\n",
        "\n",
        "prod_element_a_element = a_prod * b_prod\n",
        "prod_escalar = np.dot(a_prod, b_prod)\n",
        "\n",
        "print(f\"a: {a_prod}, b: {b_prod}\")\n",
        "print(f\"Produto elemento-a-elemento (a * b): {prod_element_a_element}\")\n",
        "print(f\"Produto escalar (np.dot(a, b)): {prod_escalar}\")"
      ],
      "metadata": {
        "colab": {
          "base_uri": "https://localhost:8080/"
        },
        "id": "Vyo2prSt8JBH",
        "outputId": "785021ab-8fbb-4a6f-ece3-a57b93972438"
      },
      "execution_count": 20,
      "outputs": [
        {
          "output_type": "stream",
          "name": "stdout",
          "text": [
            "a: [1 2 3], b: [4 5 6]\n",
            "Produto elemento-a-elemento (a * b): [ 4 10 18]\n",
            "Produto escalar (np.dot(a, b)): 32\n"
          ]
        }
      ]
    },
    {
      "cell_type": "code",
      "source": [
        "# 24. Troca de colunas (fácil)\n",
        "# Troque as colunas 0 e 2 de A = np.arange(12).reshape(3,4) sem copiar (sempre que possível).\n",
        "A_troca = np.arange(12).reshape(3, 4)\n",
        "print(f\"Matriz A original:\\n{A_troca}\")\n",
        "\n",
        "A_trocada = A_troca[:, [2, 1, 0, 3]]\n",
        "\n",
        "print(f\"Matriz A com colunas 0 e 2 trocadas (usando indexação avançada, que faz uma cópia):\\n{A_trocada}\")\n"
      ],
      "metadata": {
        "colab": {
          "base_uri": "https://localhost:8080/"
        },
        "id": "z8y__0HF8I3C",
        "outputId": "1434f569-e0aa-4973-d692-3c880158e932"
      },
      "execution_count": 21,
      "outputs": [
        {
          "output_type": "stream",
          "name": "stdout",
          "text": [
            "Matriz A original:\n",
            "[[ 0  1  2  3]\n",
            " [ 4  5  6  7]\n",
            " [ 8  9 10 11]]\n",
            "Matriz A com colunas 0 e 2 trocadas (usando indexação avançada, que faz uma cópia):\n",
            "[[ 2  1  0  3]\n",
            " [ 6  5  4  7]\n",
            " [10  9  8 11]]\n"
          ]
        }
      ]
    },
    {
      "cell_type": "code",
      "source": [],
      "metadata": {
        "id": "hyQWOrwU-KuB"
      },
      "execution_count": null,
      "outputs": []
    }
  ]
}

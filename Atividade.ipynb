{
  "nbformat": 4,
  "nbformat_minor": 0,
  "metadata": {
    "colab": {
      "provenance": [],
      "authorship_tag": "ABX9TyPtLj6ltqEMA5SWbtywSu6p",
      "include_colab_link": true
    },
    "kernelspec": {
      "name": "python3",
      "display_name": "Python 3"
    },
    "language_info": {
      "name": "python"
    }
  },
  "cells": [
    {
      "cell_type": "markdown",
      "metadata": {
        "id": "view-in-github",
        "colab_type": "text"
      },
      "source": [
        "<a href=\"https://colab.research.google.com/github/COAP230023/atividade-praticas-em-numpy-gabrieltizziani/blob/main/Atividade.ipynb\" target=\"_parent\"><img src=\"https://colab.research.google.com/assets/colab-badge.svg\" alt=\"Open In Colab\"/></a>"
      ]
    },
    {
      "cell_type": "markdown",
      "source": [
        "# Treino de NumPy — 42 exercícios hands-on\n",
        "\n",
        "**Objetivo:** praticar manipulação de arrays NumPy (criação, slicing, broadcasting, álgebra linear, estatística, datas, strides).\n",
        "\n",
        "**Regras:** use **apenas** NumPy (`import numpy as np`). Para reprodutibilidade, prefira `np.random.default_rng(seed)`.\n"
      ],
      "metadata": {
        "id": "s_uhmCguA50E"
      }
    },
    {
      "cell_type": "code",
      "source": [
        "### 1. Vetor de zeros  _(fácil)_\n",
        "\n",
        "### Crie um array 1D com 10 zeros usando NumPy e mostre o dtype e o shape.\n",
        "\n",
        "import numpy\n",
        "\n",
        "# Criar um vetor 1D com 10 zeros\n",
        "array = numpy.zeros(10)\n",
        "\n",
        "# Exibir o array, dtype e shape\n",
        "print(array)\n",
        "print(\"dtype:\", array.dtype)\n",
        "print(\"shape:\", array.shape)"
      ],
      "metadata": {
        "colab": {
          "base_uri": "https://localhost:8080/"
        },
        "id": "H7B7uHTgC0Zp",
        "outputId": "f2eff116-4d43-4e1b-9258-3e8ef1d3784c"
      },
      "execution_count": 8,
      "outputs": [
        {
          "output_type": "stream",
          "name": "stdout",
          "text": [
            "[0. 0. 0. 0. 0. 0. 0. 0. 0. 0.]\n",
            "dtype: float64\n",
            "shape: (10,)\n"
          ]
        }
      ]
    },
    {
      "cell_type": "code",
      "source": [
        "### 2. Vetor de uns  _(fácil)_\n",
        "\n",
        "### Crie um array 1D com 10 uns e transforme-o em float64.\n",
        "import numpy as np\n",
        "numpy.ones(10, dtype=np.float64)\n",
        "\n"
      ],
      "metadata": {
        "colab": {
          "base_uri": "https://localhost:8080/"
        },
        "id": "ZJun3jg_DfjB",
        "outputId": "635d2f8a-ff5e-4d3c-871c-8b2521e9f5b3"
      },
      "execution_count": 10,
      "outputs": [
        {
          "output_type": "execute_result",
          "data": {
            "text/plain": [
              "array([1., 1., 1., 1., 1., 1., 1., 1., 1., 1.])"
            ]
          },
          "metadata": {},
          "execution_count": 10
        }
      ]
    },
    {
      "cell_type": "code",
      "source": [
        "### 3. Sequência 0–9  _(fácil)_\n",
        "\n",
        "### Crie um array com os inteiros de 0 a 9 (inclusive).\n",
        "import numpy as np\n",
        "np.arange(10)\n",
        "\n",
        "#arange cria um array de valores espaçados uniformemente dentro de um intervalo definido\n"
      ],
      "metadata": {
        "colab": {
          "base_uri": "https://localhost:8080/"
        },
        "id": "1JyhInKYDzdq",
        "outputId": "14686632-3a5d-433f-d954-4a80d5f04d2f"
      },
      "execution_count": 12,
      "outputs": [
        {
          "output_type": "execute_result",
          "data": {
            "text/plain": [
              "array([0, 1, 2, 3, 4, 5, 6, 7, 8, 9])"
            ]
          },
          "metadata": {},
          "execution_count": 12
        }
      ]
    },
    {
      "cell_type": "code",
      "source": [
        "### 4. Matriz 3×3 com 0…8  _(fácil)_\n",
        "\n",
        "### Crie um array 3×3 com os valores 0…8 (reshape).\n",
        "import numpy as np\n",
        "np.arange(9).reshape(3, 3)"
      ],
      "metadata": {
        "id": "ArOjmyTPGBKt"
      },
      "execution_count": null,
      "outputs": []
    },
    {
      "cell_type": "code",
      "source": [
        "### 5. Índices não zero  _(fácil)_\n",
        "\n",
        "### Dado o vetor v = np.array([1,2,0,0,4,0])`, encontre os índices dos elementos não nulos.\n",
        "import numpy as np\n",
        "v = np.array([1, 2, 0, 0, 4, 0])\n",
        "elementos_nao_nulos = np.nonzero(v)\n",
        "print(elementos_nao_nulos)\n"
      ],
      "metadata": {
        "id": "GBZyoLOeGsr5"
      },
      "execution_count": null,
      "outputs": []
    },
    {
      "cell_type": "code",
      "source": [
        "### 6. Linspace  _(fácil)_\n",
        "\n",
        "### Crie um vetor de 12 pontos igualmente espaçados no intervalo [0, 1].\n",
        "numpy.linspace(0, 1, 12)\n"
      ],
      "metadata": {
        "id": "FFNicgXjIpz8"
      },
      "execution_count": null,
      "outputs": []
    },
    {
      "cell_type": "code",
      "source": [
        "### 7. Identidade 5×5  _(fácil)_\n",
        "\n",
        "### Crie uma matriz identidade de ordem 5.\n",
        "np.eye(5)\n"
      ],
      "metadata": {
        "colab": {
          "base_uri": "https://localhost:8080/"
        },
        "id": "C-zATeJxJTVO",
        "outputId": "3112a6e6-f79a-4d9e-b105-04183b50c751"
      },
      "execution_count": 13,
      "outputs": [
        {
          "output_type": "execute_result",
          "data": {
            "text/plain": [
              "array([[1., 0., 0., 0., 0.],\n",
              "       [0., 1., 0., 0., 0.],\n",
              "       [0., 0., 1., 0., 0.],\n",
              "       [0., 0., 0., 1., 0.],\n",
              "       [0., 0., 0., 0., 1.]])"
            ]
          },
          "metadata": {},
          "execution_count": 13
        }
      ]
    },
    {
      "cell_type": "code",
      "source": [
        "### 8. Aleatórios 3×3×3  _(fácil)_\n",
        "\n",
        "### Gere um array 3×3×3 com valores aleatórios uniformes em [0,1). Use `np.random.default_rng(42)`.\n",
        "rng = np.random.default_rng(42)\n",
        "array_3x3x3 = rng.random((3, 3, 3))\n",
        "print(array_3x3x3)\n",
        "\n",
        "\n"
      ],
      "metadata": {
        "id": "4Xwm_Q_1J_MG"
      },
      "execution_count": null,
      "outputs": []
    },
    {
      "cell_type": "code",
      "source": [
        "### 9. Min/Max  _(fácil)_\n",
        "\n",
        "### Crie uma matriz 10×10 de aleatórios uniformes e mostre o valor mínimo e máximo.\n",
        "matriz_10x10 = np.random.rand(10, 10)\n",
        "min_val = matriz_10x10.min()\n",
        "max_val = matriz_10x10.max()\n",
        "print(f\"Valor Mínimo: {min_val}\")\n",
        "print(f\"Valor Máximo: {max_val}\")"
      ],
      "metadata": {
        "id": "IU8uOpUppXat"
      },
      "execution_count": null,
      "outputs": []
    },
    {
      "cell_type": "code",
      "source": [
        "### 10. Padronização 1D  _(fácil)_\n",
        "\n",
        "### Dado `x = [1,2,3,4,5]`, crie um array float e normalize para média 0 e desvio 1.\n",
        "\n",
        "x = np.array([1, 2, 3, 4, 5], dtype=float)\n",
        "media = x.mean()\n",
        "desvio = x.std()\n",
        "x_padronizado = (x - media) / desvio\n",
        "print(f\"Array original: {x}\")\n",
        "print(f\"Média original: {x.mean():.2f}, Desvio original: {x.std():.2f}\")\n",
        "print(f\"Array padronizado: {x_padronizado}\")\n",
        "print(f\"Média padronizada: {x_padronizado.mean():.2f}, Desvio padronizado: {x_padronizado.std():.2f}\")"
      ],
      "metadata": {
        "id": "64JHkEpkp6ZR"
      },
      "execution_count": null,
      "outputs": []
    },
    {
      "cell_type": "code",
      "source": [
        "### 11. Conversão de tipos  _(fácil)_\n",
        "\n",
        "### Converta `np.array([1,2,3])` (int32) para float32 e depois para int64.\n",
        "arr_int32 = np.array([1, 2, 3])\n",
        "print(f\"Original: {arr_int32}, Tipo: {arr_int32.dtype}\")\n",
        "\n",
        "arr_float32 = arr_int32.astype(np.float32)\n",
        "print(f\"Para float32: {arr_float32}, Tipo: {arr_float32.dtype}\")\n",
        "\n",
        "arr_int64 = arr_float32.astype(np.int64)\n",
        "print(f\"Para int64: {arr_int64}, Tipo: {arr_int64.dtype}\")"
      ],
      "metadata": {
        "colab": {
          "base_uri": "https://localhost:8080/"
        },
        "id": "9GSmpBhPp6vv",
        "outputId": "1e63612e-e73a-42a3-cebb-9f844505f230"
      },
      "execution_count": 14,
      "outputs": [
        {
          "output_type": "stream",
          "name": "stdout",
          "text": [
            "Original: [1 2 3], Tipo: int64\n",
            "Para float32: [1. 2. 3.], Tipo: float32\n",
            "Para int64: [1 2 3], Tipo: int64\n"
          ]
        }
      ]
    },
    {
      "cell_type": "code",
      "source": [
        "### 12. Clipping  _(fácil)_\n",
        "\n",
        "### Dado `a = [2, 5, 7, 1, 9]`, limite os valores ao intervalo [0,5] (valores acima de 5 tornam-se 5).\n",
        "a = np.array([2, 5, 7, 1, 9])\n",
        "a_clipped = np.clip(a, 0, 5)\n",
        "print(f\"Array original: {a}\")\n",
        "print(f\"Array limitado [0,5]: {a_clipped}\")"
      ],
      "metadata": {
        "id": "P2OQXkXVrcTn"
      },
      "execution_count": null,
      "outputs": []
    },
    {
      "cell_type": "code",
      "source": [
        "### 13. Inversão  _(fácil)_\n",
        "\n",
        "### Crie um vetor de 0 a 9 e inverta a ordem (sem usar `[::-1]`).\n",
        "\n",
        "vetor = np.arange(10)\n",
        "vetor_invertido = np.flip(vetor)\n",
        "print(f\"Vetor original: {vetor}\")\n",
        "print(f\"Vetor invertido: {vetor_invertido}\")"
      ],
      "metadata": {
        "id": "CX7RYFXprcQS"
      },
      "execution_count": null,
      "outputs": []
    },
    {
      "cell_type": "code",
      "source": [
        "### 14. Empilhamento  _(fácil)_\n",
        "\n",
        "### Dado `a = [1,2,3]` e `b = [4,5,6]`, empilhe horizontal e verticalmente.\n",
        "a = np.array([1, 2, 3])\n",
        "b = np.array([4, 5, 6])\n",
        "empilhado_h = np.hstack((a, b))\n",
        "empilhado_v = np.vstack((a, b))\n",
        "print(f\"a: {a}, b: {b}\")\n",
        "print(f\"Horizontal: {empilhado_h}\")\n",
        "print(f\"Vertical:\\n{empilhado_v}\")\n"
      ],
      "metadata": {
        "id": "bNdWwohYrcM6"
      },
      "execution_count": null,
      "outputs": []
    },
    {
      "cell_type": "code",
      "source": [
        "### 15. Diagonal  _(fácil)_\n",
        "\n",
        "### Crie uma matriz 4×4 com a diagonal principal igual a 5 e as demais entradas zero.\n",
        "diagonal_5 = np.diag([5, 5, 5, 5])\n",
        "print(diagonal_5)"
      ],
      "metadata": {
        "id": "ZOwwYge0rcFc"
      },
      "execution_count": null,
      "outputs": []
    },
    {
      "cell_type": "code",
      "source": [
        "### 16. Somas por eixo  _(fácil)_\n",
        "\n",
        "### Para a matriz `A = np.arange(12).reshape(3,4)`, calcule a soma por linhas e por colunas.\n",
        "A = np.arange(12).reshape(3, 4)\n",
        "soma_por_colunas = A.sum(axis=0)\n",
        "soma_por_linhas = A.sum(axis=1)\n",
        "print(f\"Matriz A:\\n{A}\")\n",
        "print(f\"Soma por colunas (axis=0): {soma_por_colunas}\")\n",
        "print(f\"Soma por linhas (axis=1): {soma_por_linhas}\")"
      ],
      "metadata": {
        "colab": {
          "base_uri": "https://localhost:8080/"
        },
        "id": "frw3Qxscrb92",
        "outputId": "5b83ecb7-79c5-4ed4-a55a-6b5bc0391a1e"
      },
      "execution_count": 15,
      "outputs": [
        {
          "output_type": "stream",
          "name": "stdout",
          "text": [
            "Matriz A:\n",
            "[[ 0  1  2  3]\n",
            " [ 4  5  6  7]\n",
            " [ 8  9 10 11]]\n",
            "Soma por colunas (axis=0): [12 15 18 21]\n",
            "Soma por linhas (axis=1): [ 6 22 38]\n"
          ]
        }
      ]
    },
    {
      "cell_type": "code",
      "source": [
        "### 17. Frequências inteiras  _(fácil)_\n",
        "\n",
        "### Gere 100 inteiros aleatórios em [0,9] e conte as frequências de cada valor (0 a 9).\n",
        "rng = np.random.default_rng(42)\n",
        "dados = rng.integers(0, 10, size=100) # [0, 10)\n",
        "valores, contagens = np.unique(dados, return_counts=True)\n",
        "\n",
        "print(\"Frequências (Valor: Contagem):\")\n",
        "for v, c in zip(valores, contagens):\n",
        "    print(f\"{v}: {c}\", end=\" | \")\n",
        "print() # Nova linha\n"
      ],
      "metadata": {
        "colab": {
          "base_uri": "https://localhost:8080/"
        },
        "id": "3d1BQhPcrb1w",
        "outputId": "f00c5bf7-941d-4bd3-a959-5da0f9fd09ea"
      },
      "execution_count": 16,
      "outputs": [
        {
          "output_type": "stream",
          "name": "stdout",
          "text": [
            "Frequências (Valor: Contagem):\n",
            "0: 9 | 1: 9 | 2: 6 | 3: 9 | 4: 15 | 5: 7 | 6: 11 | 7: 15 | 8: 12 | 9: 7 | \n"
          ]
        }
      ]
    },
    {
      "cell_type": "code",
      "source": [
        "### 18. Slicing com passo  _(fácil)_\n",
        "\n",
        "### Dado `v = np.arange(20)`, selecione cada 3º elemento começando do índice 1.\n",
        "v = np.arange(20)\n",
        "v_filtrado = v[1::3]\n",
        "print(f\"Vetor original: {v}\")\n",
        "print(f\"Elementos a partir do índice 1 com passo 3: {v_filtrado}\")\n"
      ],
      "metadata": {
        "colab": {
          "base_uri": "https://localhost:8080/"
        },
        "id": "4i24ZzYSrbgO",
        "outputId": "df8fbe4c-b65c-48c1-dc70-73f14444cc86"
      },
      "execution_count": 45,
      "outputs": [
        {
          "output_type": "stream",
          "name": "stdout",
          "text": [
            "Vetor original: [ 0  1  2  3  4  5  6  7  8  9 10 11 12 13 14 15 16 17 18 19]\n",
            "Elementos a partir do índice 1 com passo 3: [ 1  4  7 10 13 16 19]\n"
          ]
        }
      ]
    },
    {
      "cell_type": "code",
      "source": [
        "# 18. Slicing com passo (fácil)\n",
        "# Dado v = np.arange(20), selecione cada 3º elemento começando do índice 1.\n",
        "\n",
        "v = np.arange(20)\n",
        "v_filtrado = v[1::3]\n",
        "print(f\"Vetor original: {v}\")\n",
        "print(f\"Elementos a partir do índice 1 com passo 3: {v_filtrado}\")"
      ],
      "metadata": {
        "colab": {
          "base_uri": "https://localhost:8080/"
        },
        "id": "RKSrlBuV8JTT",
        "outputId": "ef42ae9e-176f-4b43-e129-abe2e928f790"
      },
      "execution_count": 18,
      "outputs": [
        {
          "output_type": "stream",
          "name": "stdout",
          "text": [
            "Vetor original: [ 0  1  2  3  4  5  6  7  8  9 10 11 12 13 14 15 16 17 18 19]\n",
            "Elementos a partir do índice 1 com passo 3: [ 1  4  7 10 13 16 19]\n"
          ]
        }
      ]
    },
    {
      "cell_type": "code",
      "source": [
        "# 19. Máscara booleana (fácil)\n",
        "# Crie uma máscara para números pares de 0…19 e use-a para filtrar o vetor.\n",
        "vetor_0_19 = np.arange(20)\n",
        "mascara_par = (vetor_0_19 % 2 == 0)\n",
        "vetor_pares = vetor_0_19[mascara_par]\n",
        "print(f\"Vetor 0-19: {vetor_0_19}\")\n",
        "# print(f\"Máscara booleana: {mascara_par}\")\n",
        "print(f\"Números pares: {vetor_pares}\")\n"
      ],
      "metadata": {
        "id": "nWAWqnFu8JPg"
      },
      "execution_count": null,
      "outputs": []
    },
    {
      "cell_type": "code",
      "source": [
        "# 20. Lista de listas -> array (fácil)\n",
        "# Converta [[1,2,3],[4,5,6]] em ndarray, verifique shape e dtype.\n",
        "print(\"--- 20. Lista de listas -> array ---\")\n",
        "lista_de_listas = [[1, 2, 3], [4, 5, 6]]\n",
        "array_convertido = np.array(lista_de_listas)\n",
        "print(f\"Lista de listas: {lista_de_listas}\")\n",
        "print(f\"Array convertido:\\n{array_convertido}\")\n",
        "print(f\"Shape: {array_convertido.shape}\")\n",
        "print(f\"Dtype: {array_convertido.dtype}\")\n",
        "print(\"-\" * 30)"
      ],
      "metadata": {
        "id": "jnA8aKDi8JMF"
      },
      "execution_count": null,
      "outputs": []
    },
    {
      "cell_type": "code",
      "source": [
        "# 21. Datas básicas (fácil)\n",
        "# Crie um array de datas diárias de 2025-01-01 a 2025-01-07 (inclusive).\n",
        "print(\"--- 21. Datas básicas ---\")\n",
        "datas = np.arange('2025-01-01', '2025-01-08', dtype='datetime64[D]')\n",
        "print(datas)\n",
        "print(\"-\" * 30)"
      ],
      "metadata": {
        "id": "SeG1VEde8JJk"
      },
      "execution_count": null,
      "outputs": []
    },
    {
      "cell_type": "code",
      "source": [
        "# 22. Centralizar colunas (fácil)\n",
        "# Dada A = np.array([[1.,2.,3.],[4.,5.,6.]]), subtraia a média de cada coluna.\n",
        "A = np.array([[1., 2., 3.], [4., 5., 6.]])\n",
        "medias_colunas = A.mean(axis=0)\n",
        "A_centralizada = A - medias_colunas\n",
        "print(f\"Matriz A:\\n{A}\")\n",
        "print(f\"Médias das colunas: {medias_colunas}\")\n",
        "print(f\"Matriz A centralizada (Média de cada coluna deve ser ~0):\\n{A_centralizada}\")\n",
        "print(f\"Novas médias: {A_centralizada.mean(axis=0)}\") # Deve ser muito próximo de zero\n"
      ],
      "metadata": {
        "colab": {
          "base_uri": "https://localhost:8080/"
        },
        "id": "OeDh6jYi8JFH",
        "outputId": "8b20d669-70fe-4524-ab70-a062b64eeb85"
      },
      "execution_count": 19,
      "outputs": [
        {
          "output_type": "stream",
          "name": "stdout",
          "text": [
            "Matriz A:\n",
            "[[1. 2. 3.]\n",
            " [4. 5. 6.]]\n",
            "Médias das colunas: [2.5 3.5 4.5]\n",
            "Matriz A centralizada (Média de cada coluna deve ser ~0):\n",
            "[[-1.5 -1.5 -1.5]\n",
            " [ 1.5  1.5  1.5]]\n",
            "Novas médias: [0. 0. 0.]\n"
          ]
        }
      ]
    },
    {
      "cell_type": "code",
      "source": [
        "# 23. Produto elemento-a-elemento vs. escalar (fácil)\n",
        "# Dadas a=[1,2,3] e b=[4,5,6], calcule produto elemento a elemento e o produto escalar.\n",
        "a_prod = np.array([1, 2, 3])\n",
        "b_prod = np.array([4, 5, 6])\n",
        "\n",
        "prod_element_a_element = a_prod * b_prod\n",
        "prod_escalar = np.dot(a_prod, b_prod)\n",
        "\n",
        "print(f\"a: {a_prod}, b: {b_prod}\")\n",
        "print(f\"Produto elemento-a-elemento (a * b): {prod_element_a_element}\")\n",
        "print(f\"Produto escalar (np.dot(a, b)): {prod_escalar}\")"
      ],
      "metadata": {
        "colab": {
          "base_uri": "https://localhost:8080/"
        },
        "id": "Vyo2prSt8JBH",
        "outputId": "785021ab-8fbb-4a6f-ece3-a57b93972438"
      },
      "execution_count": 20,
      "outputs": [
        {
          "output_type": "stream",
          "name": "stdout",
          "text": [
            "a: [1 2 3], b: [4 5 6]\n",
            "Produto elemento-a-elemento (a * b): [ 4 10 18]\n",
            "Produto escalar (np.dot(a, b)): 32\n"
          ]
        }
      ]
    },
    {
      "cell_type": "code",
      "source": [
        "# 24. Troca de colunas (fácil)\n",
        "# Troque as colunas 0 e 2 de A = np.arange(12).reshape(3,4) sem copiar (sempre que possível).\n",
        "A_troca = np.arange(12).reshape(3, 4)\n",
        "print(f\"Matriz A original:\\n{A_troca}\")\n",
        "\n",
        "A_trocada = A_troca[:, [2, 1, 0, 3]]\n",
        "\n",
        "print(f\"Matriz A com colunas 0 e 2 trocadas (usando indexação avançada, que faz uma cópia):\\n{A_trocada}\")\n"
      ],
      "metadata": {
        "colab": {
          "base_uri": "https://localhost:8080/"
        },
        "id": "z8y__0HF8I3C",
        "outputId": "030d7fda-a787-4917-da7d-c7d8d0e5261d"
      },
      "execution_count": 49,
      "outputs": [
        {
          "output_type": "stream",
          "name": "stdout",
          "text": [
            "Matriz A original:\n",
            "[[ 0  1  2  3]\n",
            " [ 4  5  6  7]\n",
            " [ 8  9 10 11]]\n",
            "Matriz A com colunas 0 e 2 trocadas (usando indexação avançada, que faz uma cópia):\n",
            "[[ 2  1  0  3]\n",
            " [ 6  5  4  7]\n",
            " [10  9  8 11]]\n"
          ]
        }
      ]
    },
    {
      "cell_type": "code",
      "source": [
        "SEED = 42\n",
        "rng = np.random.default_rng(SEED)\n",
        "# 25. Flatten vs. ravel (médio)\n",
        "matriz = np.arange(6).reshape(2, 3)\n",
        "print(f\"Original:\\n{matriz}\")\n",
        "\n",
        "flat_copy = matriz.flatten()\n",
        "flat_copy[0] = 999\n",
        "print(f\"\\nflat_copy (CÓPIA) modificado. Original (NÃO) muda:\\n{matriz}\")\n",
        "\n",
        "matriz = np.arange(6).reshape(2, 3)\n",
        "ravel_view = matriz.ravel()\n",
        "ravel_view[0] = 888\n",
        "print(f\"\\nravel_view (VIEW) modificado. Original (MUDOU):\\n{matriz}\")\n"
      ],
      "metadata": {
        "colab": {
          "base_uri": "https://localhost:8080/"
        },
        "id": "hyQWOrwU-KuB",
        "outputId": "d766a131-31a8-4422-fe9e-d3fba529c99a"
      },
      "execution_count": 52,
      "outputs": [
        {
          "output_type": "stream",
          "name": "stdout",
          "text": [
            "Original:\n",
            "[[0 1 2]\n",
            " [3 4 5]]\n",
            "\n",
            "flat_copy (CÓPIA) modificado. Original (NÃO) muda:\n",
            "[[0 1 2]\n",
            " [3 4 5]]\n",
            "\n",
            "ravel_view (VIEW) modificado. Original (MUDOU):\n",
            "[[888   1   2]\n",
            " [  3   4   5]]\n"
          ]
        }
      ]
    },
    {
      "cell_type": "code",
      "source": [
        "# 26. Tabuleiro 8x8 (médio)\n",
        "# Crie uma matriz 8x8 com padrão de tabuleiro (0 e 1 alternados).\n",
        "indices = np.arange(8)\n",
        "matriz_i, matriz_j = np.meshgrid(indices, indices)\n",
        "\n",
        "tabuleiro = (matriz_i + matriz_j) % 2\n",
        "print(tabuleiro)\n"
      ],
      "metadata": {
        "colab": {
          "base_uri": "https://localhost:8080/"
        },
        "id": "IAGIkaoGAeSm",
        "outputId": "7953dd6e-4bf4-43d6-b85c-5b1261609f3d"
      },
      "execution_count": 53,
      "outputs": [
        {
          "output_type": "stream",
          "name": "stdout",
          "text": [
            "[[0 1 0 1 0 1 0 1]\n",
            " [1 0 1 0 1 0 1 0]\n",
            " [0 1 0 1 0 1 0 1]\n",
            " [1 0 1 0 1 0 1 0]\n",
            " [0 1 0 1 0 1 0 1]\n",
            " [1 0 1 0 1 0 1 0]\n",
            " [0 1 0 1 0 1 0 1]\n",
            " [1 0 1 0 1 0 1 0]]\n"
          ]
        }
      ]
    },
    {
      "cell_type": "code",
      "source": [
        "# 27. np.where condicional (médio)\n",
        "# Dado x = np.arange(-5,6), substitua negativos por 0 e mantenha não-negativos.\n",
        "x = np.arange(-5, 6)\n",
        "x_modificado = np.where(x < 0, 0, x)\n",
        "print(f\"Original: {x}\")\n",
        "print(f\"Modificado: {x_modificado}\")"
      ],
      "metadata": {
        "colab": {
          "base_uri": "https://localhost:8080/"
        },
        "id": "JKrtyy6IAeQg",
        "outputId": "5c2caf2b-f9e8-4590-e628-429748dfbf2c"
      },
      "execution_count": 54,
      "outputs": [
        {
          "output_type": "stream",
          "name": "stdout",
          "text": [
            "Original: [-5 -4 -3 -2 -1  0  1  2  3  4  5]\n",
            "Modificado: [0 0 0 0 0 0 1 2 3 4 5]\n"
          ]
        }
      ]
    },
    {
      "cell_type": "code",
      "source": [
        "# 28. Precisão de média (médio)\n",
        "# Gere 1_000_000 floats uniformes em [0,1) e compute a média.\n",
        "# Compare com o valor teórico 0.5 (erro absoluto).\n",
        "N = 1_000_000\n",
        "dados = rng.random(N)\n",
        "media_calculada = dados.mean()\n",
        "media_teorica = 0.5\n",
        "erro_absoluto = np.abs(media_calculada - media_teorica)\n",
        "\n",
        "print(f\"Média calculada: {media_calculada}\")\n",
        "print(f\"Média teórica: {media_teorica}\")\n",
        "print(f\"Erro absoluto: {erro_absoluto:.6e}\")"
      ],
      "metadata": {
        "colab": {
          "base_uri": "https://localhost:8080/"
        },
        "id": "1EvY46HmAeNx",
        "outputId": "4ec54958-0a29-4601-ba0f-93460abe67a3"
      },
      "execution_count": 55,
      "outputs": [
        {
          "output_type": "stream",
          "name": "stdout",
          "text": [
            "Média calculada: 0.5000264761740889\n",
            "Média teórica: 0.5\n",
            "Erro absoluto: 2.647617e-05\n"
          ]
        }
      ]
    },
    {
      "cell_type": "code",
      "source": [
        "# 29. Produto cartesiano (broadcasting) (médio)\n",
        "# Dado a=[1,2,3] e b=[10,20,30,40], gere todas as somas possíveis a_i + b_j via broadcasting (matriz 3x4).\n",
        "a = np.array([1, 2, 3])\n",
        "b = np.array([10, 20, 30, 40])\n",
        "\n",
        "# Transforma 'a' em coluna (3, 1) para broadcasting com 'b' (1, 4)\n",
        "a_coluna = a[:, np.newaxis]\n",
        "somas = a_coluna + b\n",
        "\n",
        "print(f\"a (3,1): {a_coluna.shape}\")\n",
        "print(f\"b (1,4): {b.shape}\")\n",
        "print(f\"Somas (3x4):\\n{somas}\")\n"
      ],
      "metadata": {
        "colab": {
          "base_uri": "https://localhost:8080/"
        },
        "id": "2fdb9DUvAeIt",
        "outputId": "3ebd00d5-00fd-437e-fabd-b730b0067e9a"
      },
      "execution_count": 56,
      "outputs": [
        {
          "output_type": "stream",
          "name": "stdout",
          "text": [
            "a (3,1): (3, 1)\n",
            "b (1,4): (4,)\n",
            "Somas (3x4):\n",
            "[[11 21 31 41]\n",
            " [12 22 32 42]\n",
            " [13 23 33 43]]\n"
          ]
        }
      ]
    },
    {
      "cell_type": "code",
      "source": [
        "# 30. Convolução 1D simples (médio)\n",
        "# Implemente uma convolução 1D 'valid' de um sinal s por um kernel k\n",
        "# usando np.flip e np.lib.stride_tricks.sliding_window_view (sem np.convolve).\n",
        "from numpy.lib.stride_tricks import sliding_window_view\n",
        "s = np.array([1, 2, 3, 4, 5, 6])\n",
        "k = np.array([1, 0, -1])\n",
        "\n",
        "k_flip = np.flip(k)\n",
        "\n",
        "janelas = sliding_window_view(s, window_shape=len(k))\n",
        "\n",
        "convolucao = (janelas * k_flip).sum(axis=1)\n",
        "\n",
        "print(f\"Sinal (s): {s}\")\n",
        "print(f\"Kernel (k): {k}\")\n",
        "print(f\"Resultado (valid): {convolucao}\")"
      ],
      "metadata": {
        "colab": {
          "base_uri": "https://localhost:8080/"
        },
        "id": "9189mrqKAeFm",
        "outputId": "774ec540-e4e1-411c-87ec-bf75bebabbf4"
      },
      "execution_count": 47,
      "outputs": [
        {
          "output_type": "stream",
          "name": "stdout",
          "text": [
            "Sinal (s): [1 2 3 4 5 6]\n",
            "Kernel (k): [ 1  0 -1]\n",
            "Resultado (valid): [2 2 2 2]\n"
          ]
        }
      ]
    },
    {
      "cell_type": "code",
      "source": [
        "# 31. Normalização min–max por coluna (médio)\n",
        "# Dada A = rng.normal(size=(5,4)), normalize cada coluna para o intervalo [0,1],\n",
        "# tratando colunas constantes.\n",
        "A = rng.normal(size=(5, 4))\n",
        "A[:, 0] = 5.0\n",
        "print(f\"Matriz A (5x4) (Coluna 0 constante):\\n{A}\")\n",
        "\n",
        "min_col = A.min(axis=0)\n",
        "max_col = A.max(axis=0)\n",
        "intervalo = max_col - min_col\n",
        "\n",
        "A_norm = np.zeros_like(A)\n",
        "\n",
        "mascara_nao_constante = intervalo != 0\n",
        "\n",
        "A_norm[:, mascara_nao_constante] = \\\n",
        "    (A[:, mascara_nao_constante] - min_col[mascara_nao_constante]) / \\\n",
        "    intervalo[mascara_nao_constante]\n",
        "\n",
        "print(f\"Matriz A Normalizada [0,1]:\\n{A_norm}\")"
      ],
      "metadata": {
        "id": "O2JMEF9qAeCE"
      },
      "execution_count": null,
      "outputs": []
    },
    {
      "cell_type": "code",
      "source": [
        "# 32. Ordenar por coluna (médio)\n",
        "# Ordene as linhas de A = np.array([[3,9],[1,4],[2,5]]) pelo valor crescente da 2ª coluna.\n",
        "A = np.array([[3, 9], [1, 4], [2, 5]])\n",
        "\n",
        "indices_ordenados = np.argsort(A[:, 1])\n",
        "\n",
        "A_ordenada = A[indices_ordenados]\n",
        "\n",
        "print(f\"Matriz original:\\n{A}\")\n",
        "print(f\"Matriz ordenada pela 2ª coluna:\\n{A_ordenada}\")"
      ],
      "metadata": {
        "id": "XNAEN-BLAd6T"
      },
      "execution_count": null,
      "outputs": []
    },
    {
      "cell_type": "code",
      "source": [
        "# 33. Únicos + contagens + primeira ocorrência (médio)\n",
        "# Para x = [3,1,2,3,2,3,1], obtenha valores únicos, contagens e índice da primeira ocorrência de cada valor.\n",
        "x = np.array([3, 1, 2, 3, 2, 3, 1])\n",
        "\n",
        "unicos, indices_primeira_ocorrencia, contagens = np.unique(x, return_counts=True, return_index=True)\n",
        "\n",
        "print(f\"Vetor x: {x}\")\n",
        "print(f\"Valores únicos: {unicos}\")\n",
        "print(f\"Contagens: {contagens}\")\n",
        "print(f\"Índice da 1ª ocorrência: {indices_primeira_ocorrencia}\")"
      ],
      "metadata": {
        "id": "qfjUHfuGAz62"
      },
      "execution_count": null,
      "outputs": []
    },
    {
      "cell_type": "code",
      "source": [
        "# 34. Matriz de distâncias 2D (médio)\n",
        "# Dada P com N pontos 2D, compute a matriz NxN de distâncias euclidianas sem loops explícitos\n",
        "P = np.array([[0, 0], [1, 0], [0, 1], [1, 1]])\n",
        "\n",
        "diferencas_quadrado = (P[np.newaxis, :] - P[:, np.newaxis])**2\n",
        "\n",
        "\n",
        "soma_quadrado = diferencas_quadrado.sum(axis=2)\n",
        "\n",
        "matriz_distancias = np.sqrt(soma_quadrado)\n",
        "\n",
        "print(f\"Pontos P:\\n{P}\")\n",
        "print(f\"Matriz de Distâncias Euclidianas:\\n{matriz_distancias}\")\n"
      ],
      "metadata": {
        "id": "p898wOLVAzyF"
      },
      "execution_count": null,
      "outputs": []
    },
    {
      "cell_type": "code",
      "source": [
        "# 35. Covariância e correlação (médio)\n",
        "# Simule uma matriz 1000x3 de N(0,1) e compute cov (colunas como variáveis) e corrcoef.\n",
        "print(\"\\n--- 35. Covariância e correlação ---\")\n",
        "dados_normais = rng.normal(loc=0.0, scale=1.0, size=(1000, 3))\n",
        "\n",
        "matriz_cov = np.cov(dados_normais, rowvar=False)\n",
        "\n",
        "matriz_corr = np.corrcoef(dados_normais, rowvar=False)\n",
        "\n",
        "print(f\"Matriz de Covariância (3x3):\\n{matriz_cov.round(4)}\")\n",
        "print(f\"\\nMatriz de Correlação (3x3):\\n{matriz_corr.round(4)}\")\n",
        "print(\"-\" * 30)"
      ],
      "metadata": {
        "colab": {
          "base_uri": "https://localhost:8080/"
        },
        "id": "t12pRqLbBRpx",
        "outputId": "21b294d9-4743-4627-fa1c-5f12f73ef576"
      },
      "execution_count": 26,
      "outputs": [
        {
          "output_type": "stream",
          "name": "stdout",
          "text": [
            "\n",
            "--- 35. Covariância e correlação ---\n",
            "Matriz de Covariância (3x3):\n",
            "[[ 1.0281  0.0034 -0.0303]\n",
            " [ 0.0034  0.9969  0.0635]\n",
            " [-0.0303  0.0635  1.0227]]\n",
            "\n",
            "Matriz de Correlação (3x3):\n",
            "[[ 1.      0.0034 -0.0295]\n",
            " [ 0.0034  1.      0.0629]\n",
            " [-0.0295  0.0629  1.    ]]\n",
            "------------------------------\n"
          ]
        }
      ]
    },
    {
      "cell_type": "code",
      "source": [
        "# 36. One-hot encoding (médio)\n",
        "# Converta os rótulos y = [2,0,1,2] em codificação one-hot usando apenas operações NumPy.\n",
        "y = np.array([2, 0, 1, 2])\n",
        "num_classes = y.max() + 1\n",
        "\n",
        "\n",
        "one_hot = np.zeros((len(y), num_classes), dtype=int)\n",
        "\n",
        "one_hot[np.arange(len(y)), y] = 1\n",
        "\n",
        "print(f\"Rótulos: {y}\")\n",
        "print(f\"One-hot encoding:\\n{one_hot}\")\n",
        "\n",
        "\n"
      ],
      "metadata": {
        "colab": {
          "base_uri": "https://localhost:8080/"
        },
        "id": "BnFAscVrBRe2",
        "outputId": "816f0619-e969-49db-b1d1-ff0bea65e4fb"
      },
      "execution_count": 27,
      "outputs": [
        {
          "output_type": "stream",
          "name": "stdout",
          "text": [
            "Rótulos: [2 0 1 2]\n",
            "One-hot encoding:\n",
            "[[0 0 1]\n",
            " [1 0 0]\n",
            " [0 1 0]\n",
            " [0 0 1]]\n"
          ]
        }
      ]
    },
    {
      "cell_type": "code",
      "source": [
        "# 37. k-means 2D (NumPy puro) (difícil)\n",
        "# Implemente k-means com K=3 em pontos 2D: inicialize centróides aleatórios,\n",
        "# faça 10 iterações de (1) atribuir pontos ao centróide mais próximo e (2) recomputar centróides.\n",
        "print(\"\\n--- 37. k-means 2D (NumPy puro) ---\")\n",
        "K = 3\n",
        "N_POINTS = 100\n",
        "\n",
        "# Geração dos dados de exemplo\n",
        "data = np.vstack([\n",
        "    rng.normal(loc=[2, 2], scale=1, size=(N_POINTS // 3, 2)),\n",
        "    rng.normal(loc=[-2, -2], scale=1, size=(N_POINTS // 3, 2)),\n",
        "    rng.normal(loc=[2, -2], scale=1, size=(N_POINTS - 2 * (N_POINTS // 3), 2))\n",
        "])\n",
        "\n",
        "indices_iniciais = rng.choice(len(data), K, replace=False)\n",
        "centroids = data[indices_iniciais]\n",
        "\n",
        "MAX_ITER = 10\n",
        "for i in range(MAX_ITER):\n",
        "\n",
        "    diff_sq = (data[:, np.newaxis, :] - centroids[np.newaxis, :, :])**2\n",
        "    distances_sq = diff_sq.sum(axis=2)\n",
        "\n",
        "    labels = np.argmin(distances_sq, axis=1)\n",
        "\n",
        "    new_centroids = np.zeros_like(centroids)\n",
        "    for k in range(K):\n",
        "        cluster_points = data[labels == k]\n",
        "\n",
        "        if len(cluster_points) > 0:\n",
        "\n",
        "            new_centroids[k] = cluster_points.mean(axis=0)\n",
        "        else:\n",
        "            new_centroids[k] = centroids[k]\n",
        "\n",
        "    if np.allclose(centroids, new_centroids):\n",
        "        print(f\"Convergiu na iteração {i+1}\")\n",
        "        break\n",
        "\n",
        "    centroids = new_centroids\n",
        "\n",
        "print(f\"Centróides finais (após {i+1} iterações):\\n{centroids.round(4)}\")\n",
        "print(\"-\" * 30)"
      ],
      "metadata": {
        "colab": {
          "base_uri": "https://localhost:8080/"
        },
        "id": "9L50N-TMBjZY",
        "outputId": "b50bc43b-1b32-4213-b417-dc87b8f0a8b4"
      },
      "execution_count": 30,
      "outputs": [
        {
          "output_type": "stream",
          "name": "stdout",
          "text": [
            "\n",
            "--- 37. k-means 2D (NumPy puro) ---\n",
            "Convergiu na iteração 6\n",
            "Centróides finais (após 6 iterações):\n",
            "[[ 1.6523 -2.1225]\n",
            " [ 1.9811  2.0845]\n",
            " [-1.8427 -2.1473]]\n",
            "------------------------------\n"
          ]
        }
      ]
    },
    {
      "cell_type": "code",
      "source": [
        "# 38. PCA básica (autovetores) (difícil)\n",
        "# Implemente PCA 2D→1D: centralize X (N×2), calcule covariância, autovetores,\n",
        "# projete em 1D e reconstrua aproximado.\n",
        "print(\"\\n--- 38. PCA básica (autovetores) ---\")\n",
        "# Dados de exemplo 2D (correlacionados)\n",
        "X = rng.multivariate_normal(mean=[0, 0], cov=[[10, 5], [5, 2]], size=100)\n",
        "N, D = X.shape\n",
        "\n",
        "X_mean = X.mean(axis=0)\n",
        "X_centered = X - X_mean\n",
        "\n",
        "Cov = np.cov(X_centered, rowvar=False)\n",
        "\n",
        "# 3. Autovalores e Autovetores\n",
        "# Autovetores são retornados como COLUNAS da matriz V (no NumPy)\n",
        "eigen_values, eigen_vectors = np.linalg.eigh(Cov)\n",
        "\n",
        "# 4. Seleciona o principal componente (autovetor com maior autovalor)\n",
        "# np.argsort ordena do menor para o maior. Pegamos o último índice [::-1][0]\n",
        "idx_principal = np.argsort(eigen_values)[::-1][0]\n",
        "principal_component = eigen_vectors[:, idx_principal] # Shape (2,)\n",
        "\n",
        "# 5. Projeção 2D -> 1D\n",
        "# X_centered (100, 2) @ principal_component (2, 1) = X_projected (100, 1)\n",
        "X_projected = X_centered @ principal_component\n",
        "\n",
        "# 6. Reconstrução aproximada 1D -> 2D\n",
        "# X_reconstructed (100, 1) @ principal_component.T (1, 2) + X_mean (2,)\n",
        "X_reconstructed = X_projected[:, np.newaxis] @ principal_component[np.newaxis, :] + X_mean\n",
        "\n",
        "print(f\"Matriz de Covariância:\\n{Cov.round(4)}\")\n",
        "print(f\"Autovetor Principal: {principal_component.round(4)}\")\n",
        "print(f\"Dimensões de X_projected: {X_projected.shape}\")\n",
        "print(f\"Primeiros 5 pontos reconstruídos:\\n{X_reconstructed[:5].round(2)}\")"
      ],
      "metadata": {
        "colab": {
          "base_uri": "https://localhost:8080/"
        },
        "id": "OKjhi-G-BjXQ",
        "outputId": "be80e596-6e20-418e-a5f5-9c8ff5985cc2"
      },
      "execution_count": 44,
      "outputs": [
        {
          "output_type": "stream",
          "name": "stdout",
          "text": [
            "\n",
            "--- 38. PCA básica (autovetores) ---\n",
            "Matriz de Covariância:\n",
            "[[9.5497 4.4098]\n",
            " [4.4098 2.6234]]\n",
            "Autovetor Principal: [-0.8993 -0.4372]\n",
            "Dimensões de X_projected: (100,)\n",
            "Primeiros 5 pontos reconstruídos:\n",
            "[[-0.63 -0.23]\n",
            " [ 1.24  0.68]\n",
            " [-2.44 -1.11]\n",
            " [ 4.58  2.3 ]\n",
            " [ 3.6   1.82]]\n"
          ]
        },
        {
          "output_type": "stream",
          "name": "stderr",
          "text": [
            "/tmp/ipython-input-1837817148.py:6: RuntimeWarning: covariance is not symmetric positive-semidefinite.\n",
            "  X = rng.multivariate_normal(mean=[0, 0], cov=[[10, 5], [5, 2]], size=100)\n"
          ]
        }
      ]
    },
    {
      "cell_type": "code",
      "source": [
        "# 39. Convolução 2D (im2col) (difícil)\n",
        "# Implemente convolução 2D 'valid' de uma imagem I por um kernel K\n",
        "# usando sliding_window_view para gerar blocos e multiplicação matricial.\n",
        "from numpy.lib.stride_tricks import sliding_window_view\n",
        "# Imagem de exemplo 5x5\n",
        "I = np.arange(25).reshape(5, 5).astype(float)\n",
        "# Kernel de exemplo 3x3\n",
        "K = np.array([[1, 0, -1], [2, 0, -2], [1, 0, -1]]).astype(float)\n",
        "K_h, K_w = K.shape\n",
        "\n",
        "# 1. Usa sliding_window_view para obter todos os blocos KxK (im2col)\n",
        "# O shape será (H_out, W_out, K_h, K_w)\n",
        "janelas_2d = sliding_window_view(I, window_shape=K.shape)\n",
        "\n",
        "# 2. Achata o Kernel (para o vetor de pesos)\n",
        "# Kernel shape (K_h * K_w, 1)\n",
        "K_flat = K.ravel()\n",
        "\n",
        "# 3. Achata as janelas (para o vetor de entrada)\n",
        "# janelas_2d shape (H_out, W_out, K_h, K_w) -> (H_out * W_out, K_h * K_w)\n",
        "H_out, W_out, _, _ = janelas_2d.shape\n",
        "janelas_flat = janelas_2d.reshape(H_out * W_out, K_h * K_w)\n",
        "\n",
        "# 4. Multiplicação matricial (Convolução)\n",
        "# (H_out * W_out, K*K) @ (K*K, 1) = (H_out * W_out, 1)\n",
        "conv_flat = janelas_flat @ K_flat\n",
        "\n",
        "# 5. Remodela o resultado para o shape de saída\n",
        "conv_2d = conv_flat.reshape(H_out, W_out)\n",
        "\n",
        "print(f\"Imagem I (5x5):\\n{I}\")\n",
        "print(f\"Kernel K (3x3):\\n{K}\")\n",
        "print(f\"Convolução 2D 'valid' ({H_out}x{W_out}):\\n{conv_2d}\")"
      ],
      "metadata": {
        "colab": {
          "base_uri": "https://localhost:8080/"
        },
        "id": "xCVhoH0VBjUz",
        "outputId": "a9a9da82-665b-4920-a28c-94c40ff6f7e3"
      },
      "execution_count": 39,
      "outputs": [
        {
          "output_type": "stream",
          "name": "stdout",
          "text": [
            "Imagem I (5x5):\n",
            "[[ 0.  1.  2.  3.  4.]\n",
            " [ 5.  6.  7.  8.  9.]\n",
            " [10. 11. 12. 13. 14.]\n",
            " [15. 16. 17. 18. 19.]\n",
            " [20. 21. 22. 23. 24.]]\n",
            "Kernel K (3x3):\n",
            "[[ 1.  0. -1.]\n",
            " [ 2.  0. -2.]\n",
            " [ 1.  0. -1.]]\n",
            "Convolução 2D 'valid' (3x3):\n",
            "[[-8. -8. -8.]\n",
            " [-8. -8. -8.]\n",
            " [-8. -8. -8.]]\n",
            "------------------------------\n"
          ]
        }
      ]
    },
    {
      "cell_type": "code",
      "source": [
        "# 40. Sistemas lineares e resíduo (difícil)\n",
        "# Gere uma matriz A (100x100) bem-condicionada, um vetor b e resolva Ax=b com\n",
        "# np.linalg.solve. Compute o resíduo relativo ||Ax−b||/||b|| e cond(A).\n",
        "N_EQ = 100\n",
        "\n",
        "# 1. Cria uma matriz A bem-condicionada (ex: matriz aleatória + diagonal forte)\n",
        "A_base = rng.standard_normal(size=(N_EQ, N_EQ))\n",
        "A = A_base + N_EQ * np.eye(N_EQ) # Garante que seja bem-condicionada e invertível\n",
        "\n",
        "# 2. Gera o vetor b (aleatório)\n",
        "b = rng.standard_normal(N_EQ)\n",
        "\n",
        "# 3. Resolve Ax = b\n",
        "x = np.linalg.solve(A, b)\n",
        "\n",
        "# 4. Calcula o resíduo: ||Ax - b||\n",
        "residuos = A @ x - b\n",
        "norm_residuos = np.linalg.norm(residuos)\n",
        "\n",
        "# 5. Calcula a norma de b: ||b||\n",
        "norm_b = np.linalg.norm(b)\n",
        "\n",
        "# 6. Resíduo Relativo: ||Ax - b|| / ||b||\n",
        "residuo_relativo = norm_residuos / norm_b\n",
        "\n",
        "# 7. Número de condição de A\n",
        "cond_A = np.linalg.cond(A)\n",
        "\n",
        "print(f\"Resíduo Relativo (||Ax-b||/||b||): {residuo_relativo:.2e}\")\n",
        "print(f\"Número de Condição cond(A): {cond_A:.2f}\")\n",
        "# O resíduo relativo deve ser muito pequeno (próximo à precisão da máquina)"
      ],
      "metadata": {
        "colab": {
          "base_uri": "https://localhost:8080/"
        },
        "id": "XE1CnWPDBjSM",
        "outputId": "2062ac7b-b0c4-48a7-9965-ab3429b34a3c"
      },
      "execution_count": 40,
      "outputs": [
        {
          "output_type": "stream",
          "name": "stdout",
          "text": [
            "\n",
            "--- 40. Sistemas lineares e resíduo ---\n",
            "Resíduo Relativo (||Ax-b||/||b||): 3.41e-16\n",
            "Número de Condição cond(A): 1.31\n",
            "------------------------------\n"
          ]
        }
      ]
    },
    {
      "cell_type": "code",
      "source": [
        "# 41. Regressão linear (OLS) com NumPy (difícil)\n",
        "# Dado X (Nxd) e y, calcule os coeficientes OLS usando np.linalg.lstsq e avalie RMSE no treino.\n",
        "N_SAMPLES = 100\n",
        "D_FEAT = 2\n",
        "\n",
        "# Dados de exemplo: y = 2*x1 - 1.5*x2 + 5 + ruído\n",
        "X = rng.random(size=(N_SAMPLES, D_FEAT))\n",
        "true_coeffs = np.array([2.0, -1.5])\n",
        "y_true = X @ true_coeffs + 5.0\n",
        "y = y_true + rng.normal(0, 0.1, N_SAMPLES)\n",
        "\n",
        "# 1. Adiciona o termo de intercepto (coluna de uns)\n",
        "# X_pad (N, D+1)\n",
        "X_pad = np.hstack([X, np.ones((N_SAMPLES, 1))])\n",
        "\n",
        "# 2. Resolve OLS: coeficientes = (X^T @ X)^(-1) @ X^T @ y\n",
        "# Usa np.linalg.lstsq (Least Squares) para solução robusta (preferível a inversão direta)\n",
        "# Retorna (coeficientes, soma dos quadrados dos resíduos, posto, valores singulares)\n",
        "coeffs, residuals_sum_sq, rank, s = np.linalg.lstsq(X_pad, y, rcond=None)\n",
        "# coeffs[0:D] são os pesos, coeffs[D] é o intercepto\n",
        "\n",
        "# 3. Predição\n",
        "y_pred = X_pad @ coeffs\n",
        "\n",
        "# 4. Avalia RMSE no treino\n",
        "rmse = np.sqrt(np.mean((y - y_pred)**2))\n",
        "\n",
        "print(f\"Coeficientes OLS (Pesos, Intercepto): {coeffs.round(4)}\")\n",
        "print(f\"RMSE (Root Mean Square Error) no treino: {rmse:.4f}\")"
      ],
      "metadata": {
        "colab": {
          "base_uri": "https://localhost:8080/"
        },
        "id": "PAD92hHuBjPJ",
        "outputId": "baf9d6a9-1672-476e-f8a5-517a4a7713d0"
      },
      "execution_count": 41,
      "outputs": [
        {
          "output_type": "stream",
          "name": "stdout",
          "text": [
            "\n",
            "--- 41. Regressão linear (OLS) com NumPy ---\n",
            "Coeficientes OLS (Pesos, Intercepto): [ 1.9772 -1.4828  4.9844]\n",
            "RMSE (Root Mean Square Error) no treino: 0.0888\n",
            "------------------------------\n"
          ]
        }
      ]
    },
    {
      "cell_type": "code",
      "source": [
        "# 42. Rolling window 2D com strides (difícil)\n",
        "# Usando sliding_window_view, compute a média local 3x3 de uma imagem 2D sem laços explícitos.\n",
        "\n",
        "img = np.arange(36).reshape(6, 6)\n",
        "WINDOW_SIZE = (3, 3)\n",
        "\n",
        "windows = sliding_window_view(img, window_shape=WINDOW_SIZE)\n",
        "\n",
        "media_movel = windows.mean(axis=(-2, -1))\n",
        "\n",
        "print(f\"Imagem Original (6x6):\\n{img}\")\n",
        "print(f\"\\nMédia 3x3 Rolling Window (4x4):\\n{media_movel.round(2)}\")"
      ],
      "metadata": {
        "colab": {
          "base_uri": "https://localhost:8080/"
        },
        "id": "ZqXPeOwnBjJi",
        "outputId": "c7e06673-e04f-46a0-fc95-d1d1b4443f47"
      },
      "execution_count": 48,
      "outputs": [
        {
          "output_type": "stream",
          "name": "stdout",
          "text": [
            "Imagem Original (6x6):\n",
            "[[ 0  1  2  3  4  5]\n",
            " [ 6  7  8  9 10 11]\n",
            " [12 13 14 15 16 17]\n",
            " [18 19 20 21 22 23]\n",
            " [24 25 26 27 28 29]\n",
            " [30 31 32 33 34 35]]\n",
            "\n",
            "Média 3x3 Rolling Window (4x4):\n",
            "[[ 7.  8.  9. 10.]\n",
            " [13. 14. 15. 16.]\n",
            " [19. 20. 21. 22.]\n",
            " [25. 26. 27. 28.]]\n"
          ]
        }
      ]
    }
  ]
}
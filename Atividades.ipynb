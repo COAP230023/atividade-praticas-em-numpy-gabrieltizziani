{
  "nbformat": 4,
  "nbformat_minor": 0,
  "metadata": {
    "colab": {
      "provenance": [],
      "authorship_tag": "ABX9TyNle35qs/eHILH6jmGrmyVo",
      "include_colab_link": true
    },
    "kernelspec": {
      "name": "python3",
      "display_name": "Python 3"
    },
    "language_info": {
      "name": "python"
    }
  },
  "cells": [
    {
      "cell_type": "markdown",
      "metadata": {
        "id": "view-in-github",
        "colab_type": "text"
      },
      "source": [
        "<a href=\"https://colab.research.google.com/github/COAP230023/atividade-praticas-em-numpy-gabrieltizziani/blob/main/Atividades.ipynb\" target=\"_parent\"><img src=\"https://colab.research.google.com/assets/colab-badge.svg\" alt=\"Open In Colab\"/></a>"
      ]
    },
    {
      "cell_type": "markdown",
      "source": [
        "# Treino de NumPy — 42 exercícios hands-on\n",
        "\n",
        "**Objetivo:** praticar manipulação de arrays NumPy (criação, slicing, broadcasting, álgebra linear, estatística, datas, strides).\n",
        "\n",
        "**Regras:** use **apenas** NumPy (`import numpy as np`). Para reprodutibilidade, prefira `np.random.default_rng(seed)`.\n"
      ],
      "metadata": {
        "id": "s_uhmCguA50E"
      }
    },
    {
      "cell_type": "code",
      "source": [
        "### 1. Vetor de zeros  _(fácil)_\n",
        "\n",
        "### Crie um array 1D com 10 zeros usando NumPy e mostre o dtype e o shape.\n",
        "\n",
        "import numpy\n",
        "\n",
        "# Criar um vetor 1D com 10 zeros\n",
        "array = numpy.zeros(10)\n",
        "\n",
        "# Exibir o array, dtype e shape\n",
        "print(array)\n",
        "print(\"dtype:\", array.dtype)\n",
        "print(\"shape:\", array.shape)"
      ],
      "metadata": {
        "colab": {
          "base_uri": "https://localhost:8080/"
        },
        "id": "H7B7uHTgC0Zp",
        "outputId": "864b0e8b-6543-475f-9bda-c9e4dcf69ca5"
      },
      "execution_count": null,
      "outputs": [
        {
          "output_type": "stream",
          "name": "stdout",
          "text": [
            "[0. 0. 0. 0. 0. 0. 0. 0. 0. 0.]\n",
            "dtype: float64\n",
            "shape: (10,)\n"
          ]
        }
      ]
    },
    {
      "cell_type": "code",
      "source": [
        "### 2. Vetor de uns  _(fácil)_\n",
        "\n",
        "### Crie um array 1D com 10 uns e transforme-o em float64.\n",
        "import numpy as np\n",
        "np.ones(10, dtype=np.float64)\n",
        "\n"
      ],
      "metadata": {
        "colab": {
          "base_uri": "https://localhost:8080/"
        },
        "id": "ZJun3jg_DfjB",
        "outputId": "6eba8299-c62f-463f-d3ee-648c3ffdf6c4"
      },
      "execution_count": null,
      "outputs": [
        {
          "output_type": "execute_result",
          "data": {
            "text/plain": [
              "array([1., 1., 1., 1., 1., 1., 1., 1., 1., 1.])"
            ]
          },
          "metadata": {},
          "execution_count": 6
        }
      ]
    },
    {
      "cell_type": "code",
      "source": [
        "### 3. Sequência 0–9  _(fácil)_\n",
        "\n",
        "### Crie um array com os inteiros de 0 a 9 (inclusive).\n",
        "import numpy as np\n",
        "np.arange(10)\n",
        "\n",
        "#arange cria um array de valores espaçados uniformemente dentro de um intervalo definido\n"
      ],
      "metadata": {
        "colab": {
          "base_uri": "https://localhost:8080/"
        },
        "id": "1JyhInKYDzdq",
        "outputId": "b9827380-c627-485a-9e9e-71cfb95ca315"
      },
      "execution_count": null,
      "outputs": [
        {
          "output_type": "execute_result",
          "data": {
            "text/plain": [
              "array([0, 1, 2, 3, 4, 5, 6, 7, 8, 9])"
            ]
          },
          "metadata": {},
          "execution_count": 7
        }
      ]
    },
    {
      "cell_type": "code",
      "source": [
        "### 4. Matriz 3×3 com 0…8  _(fácil)_\n",
        "\n",
        "### Crie um array 3×3 com os valores 0…8 (reshape).\n",
        "import numpy as np\n",
        "np.arange(9).reshape(3, 3)"
      ],
      "metadata": {
        "colab": {
          "base_uri": "https://localhost:8080/"
        },
        "id": "ArOjmyTPGBKt",
        "outputId": "16bbc59b-c628-4aa4-dd12-507d81dda307"
      },
      "execution_count": null,
      "outputs": [
        {
          "output_type": "execute_result",
          "data": {
            "text/plain": [
              "array([[0, 1, 2],\n",
              "       [3, 4, 5],\n",
              "       [6, 7, 8]])"
            ]
          },
          "metadata": {},
          "execution_count": 8
        }
      ]
    },
    {
      "cell_type": "code",
      "source": [
        "### 5. Índices não zero  _(fácil)_\n",
        "\n",
        "### Dado o vetor v = np.array([1,2,0,0,4,0])`, encontre os índices dos elementos não nulos.\n",
        "\n"
      ],
      "metadata": {
        "id": "GBZyoLOeGsr5"
      },
      "execution_count": null,
      "outputs": []
    }
  ]
}
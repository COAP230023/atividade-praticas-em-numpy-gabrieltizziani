{
  "nbformat": 4,
  "nbformat_minor": 0,
  "metadata": {
    "colab": {
      "provenance": [],
      "authorship_tag": "ABX9TyMHO1xK8TR2A65VNQHS7koR",
      "include_colab_link": true
    },
    "kernelspec": {
      "name": "python3",
      "display_name": "Python 3"
    },
    "language_info": {
      "name": "python"
    }
  },
  "cells": [
    {
      "cell_type": "markdown",
      "metadata": {
        "id": "view-in-github",
        "colab_type": "text"
      },
      "source": [
        "<a href=\"https://colab.research.google.com/github/COAP230023/atividade-praticas-em-numpy-gabrieltizziani/blob/main/Untitled1.ipynb\" target=\"_parent\"><img src=\"https://colab.research.google.com/assets/colab-badge.svg\" alt=\"Open In Colab\"/></a>"
      ]
    },
    {
      "cell_type": "markdown",
      "source": [
        "# Treino de NumPy — 42 exercícios hands-on\n",
        "\n",
        "**Objetivo:** praticar manipulação de arrays NumPy (criação, slicing, broadcasting, álgebra linear, estatística, datas, strides).\n",
        "\n",
        "**Regras:** use **apenas** NumPy (`import numpy as np`). Para reprodutibilidade, prefira `np.random.default_rng(seed)`.\n"
      ],
      "metadata": {
        "id": "s_uhmCguA50E"
      }
    },
    {
      "cell_type": "code",
      "source": [
        "### 1. Vetor de zeros  _(fácil)_\n",
        "\n",
        "### Crie um array 1D com 10 zeros usando NumPy e mostre o dtype e o shape.\n",
        "\n",
        "import numpy\n",
        "\n",
        "# Criar um vetor 1D com 10 zeros\n",
        "array = numpy.zeros(10)\n",
        "\n",
        "# Exibir o array, dtype e shape\n",
        "print(array)\n",
        "print(\"dtype:\", array.dtype)\n",
        "print(\"shape:\", array.shape)"
      ],
      "metadata": {
        "colab": {
          "base_uri": "https://localhost:8080/"
        },
        "id": "H7B7uHTgC0Zp",
        "outputId": "864b0e8b-6543-475f-9bda-c9e4dcf69ca5"
      },
      "execution_count": null,
      "outputs": [
        {
          "output_type": "stream",
          "name": "stdout",
          "text": [
            "[0. 0. 0. 0. 0. 0. 0. 0. 0. 0.]\n",
            "dtype: float64\n",
            "shape: (10,)\n"
          ]
        }
      ]
    },
    {
      "cell_type": "code",
      "source": [
        "### 2. Vetor de uns  _(fácil)_\n",
        "\n",
        "### Crie um array 1D com 10 uns e transforme-o em float64.\n",
        "import numpy\n",
        "numpy.ones(10, dtype=np.float64)\n",
        "\n"
      ],
      "metadata": {
        "colab": {
          "base_uri": "https://localhost:8080/"
        },
        "id": "ZJun3jg_DfjB",
        "outputId": "ac990042-abf4-4704-de45-8438af527900"
      },
      "execution_count": 10,
      "outputs": [
        {
          "output_type": "execute_result",
          "data": {
            "text/plain": [
              "array([1., 1., 1., 1., 1., 1., 1., 1., 1., 1.])"
            ]
          },
          "metadata": {},
          "execution_count": 10
        }
      ]
    },
    {
      "cell_type": "code",
      "source": [
        "### 3. Sequência 0–9  _(fácil)_\n",
        "\n",
        "### Crie um array com os inteiros de 0 a 9 (inclusive).\n",
        "import numpy as np\n",
        "np.arange(10)\n",
        "\n",
        "#arange cria um array de valores espaçados uniformemente dentro de um intervalo definido\n"
      ],
      "metadata": {
        "colab": {
          "base_uri": "https://localhost:8080/"
        },
        "id": "1JyhInKYDzdq",
        "outputId": "b9827380-c627-485a-9e9e-71cfb95ca315"
      },
      "execution_count": null,
      "outputs": [
        {
          "output_type": "execute_result",
          "data": {
            "text/plain": [
              "array([0, 1, 2, 3, 4, 5, 6, 7, 8, 9])"
            ]
          },
          "metadata": {},
          "execution_count": 7
        }
      ]
    },
    {
      "cell_type": "code",
      "source": [
        "### 4. Matriz 3×3 com 0…8  _(fácil)_\n",
        "\n",
        "### Crie um array 3×3 com os valores 0…8 (reshape).\n",
        "import numpy as np\n",
        "np.arange(9).reshape(3, 3)"
      ],
      "metadata": {
        "colab": {
          "base_uri": "https://localhost:8080/"
        },
        "id": "ArOjmyTPGBKt",
        "outputId": "16bbc59b-c628-4aa4-dd12-507d81dda307"
      },
      "execution_count": null,
      "outputs": [
        {
          "output_type": "execute_result",
          "data": {
            "text/plain": [
              "array([[0, 1, 2],\n",
              "       [3, 4, 5],\n",
              "       [6, 7, 8]])"
            ]
          },
          "metadata": {},
          "execution_count": 8
        }
      ]
    },
    {
      "cell_type": "code",
      "source": [
        "### 5. Índices não zero  _(fácil)_\n",
        "\n",
        "### Dado o vetor v = np.array([1,2,0,0,4,0])`, encontre os índices dos elementos não nulos.\n",
        "import numpy as np\n",
        "v = np.array([1, 2, 0, 0, 4, 0])\n",
        "elementos_nao_nulos = np.nonzero(v)\n",
        "print(elementos_nao_nulos)\n"
      ],
      "metadata": {
        "id": "GBZyoLOeGsr5",
        "colab": {
          "base_uri": "https://localhost:8080/"
        },
        "outputId": "d300f2c9-e532-4b89-e398-21e8e215c94a"
      },
      "execution_count": 9,
      "outputs": [
        {
          "output_type": "stream",
          "name": "stdout",
          "text": [
            "(array([0, 1, 4]),)\n"
          ]
        }
      ]
    },
    {
      "cell_type": "code",
      "source": [
        "### 6. Linspace  _(fácil)_\n",
        "\n",
        "### Crie um vetor de 12 pontos igualmente espaçados no intervalo [0, 1].\n",
        "numpy.linspace(0, 1, 12)\n"
      ],
      "metadata": {
        "colab": {
          "base_uri": "https://localhost:8080/"
        },
        "id": "FFNicgXjIpz8",
        "outputId": "052400b1-7191-4541-8946-1e02287aebd4"
      },
      "execution_count": 16,
      "outputs": [
        {
          "output_type": "execute_result",
          "data": {
            "text/plain": [
              "array([0.        , 0.09090909, 0.18181818, 0.27272727, 0.36363636,\n",
              "       0.45454545, 0.54545455, 0.63636364, 0.72727273, 0.81818182,\n",
              "       0.90909091, 1.        ])"
            ]
          },
          "metadata": {},
          "execution_count": 16
        }
      ]
    },
    {
      "cell_type": "code",
      "source": [
        "### 7. Identidade 5×5  _(fácil)_\n",
        "\n",
        "### Crie uma matriz identidade de ordem 5.\n",
        "np.eye(5)\n"
      ],
      "metadata": {
        "colab": {
          "base_uri": "https://localhost:8080/"
        },
        "id": "C-zATeJxJTVO",
        "outputId": "1e1b64b1-9330-4306-e924-0f1b05d93dd1"
      },
      "execution_count": 15,
      "outputs": [
        {
          "output_type": "execute_result",
          "data": {
            "text/plain": [
              "array([[1., 0., 0., 0., 0.],\n",
              "       [0., 1., 0., 0., 0.],\n",
              "       [0., 0., 1., 0., 0.],\n",
              "       [0., 0., 0., 1., 0.],\n",
              "       [0., 0., 0., 0., 1.]])"
            ]
          },
          "metadata": {},
          "execution_count": 15
        }
      ]
    },
    {
      "cell_type": "code",
      "source": [],
      "metadata": {
        "id": "4Xwm_Q_1J_MG"
      },
      "execution_count": null,
      "outputs": []
    }
  ]
}